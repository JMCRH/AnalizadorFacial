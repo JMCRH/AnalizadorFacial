{
  "nbformat": 4,
  "nbformat_minor": 0,
  "metadata": {
    "colab": {
      "name": "Test_Timeit.ipynb",
      "provenance": [],
      "authorship_tag": "ABX9TyOfikyvn5Zg1C5A1q18VhQB",
      "include_colab_link": true
    },
    "kernelspec": {
      "name": "python3",
      "display_name": "Python 3"
    },
    "language_info": {
      "name": "python"
    }
  },
  "cells": [
    {
      "cell_type": "markdown",
      "metadata": {
        "id": "view-in-github",
        "colab_type": "text"
      },
      "source": [
        "<a href=\"https://colab.research.google.com/github/bassemmarji/FaceAnalyzer/blob/main/Test_Timeit.ipynb\" target=\"_parent\"><img src=\"https://colab.research.google.com/assets/colab-badge.svg\" alt=\"Open In Colab\"/></a>"
      ]
    },
    {
      "cell_type": "code",
      "execution_count": 1,
      "metadata": {
        "colab": {
          "base_uri": "https://localhost:8080/"
        },
        "id": "kAwRDWNS4_fl",
        "outputId": "8783ca8b-8a94-4033-893e-6001aa9d1662"
      },
      "outputs": [
        {
          "output_type": "stream",
          "name": "stdout",
          "text": [
            "Time for built-in sum(): 1.2767384729999947\n",
            "Time for np.sum(): 0.11586564699999258\n"
          ]
        }
      ],
      "source": [
        "from timeit import timeit\n",
        "import numpy as np\n",
        "\n",
        "if __name__ == '__main__':\n",
        "    setup_sum = 'data = list(range(10000))'\n",
        "    setup_np = 'import numpy as np;'\n",
        "    setup_np += 'data_np = np.array(list(range(10000)))'\n",
        "    \n",
        "    run_sum = 'result = sum(data)'\n",
        "    run_np = 'result = np.sum(data_np)'\n",
        "\n",
        "    time_sum = timeit(run_sum, setup=setup_sum, number=10000)\n",
        "    time_np = timeit(run_np, setup=setup_np, number=10000)\n",
        "\n",
        "    print(\"Time for built-in sum(): {}\".format(time_sum))\n",
        "    print(\"Time for np.sum(): {}\".format(time_np))"
      ]
    }
  ]
}