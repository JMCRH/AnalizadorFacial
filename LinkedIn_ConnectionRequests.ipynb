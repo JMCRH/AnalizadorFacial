{
  "nbformat": 4,
  "nbformat_minor": 0,
  "metadata": {
    "colab": {
      "name": "Untitled6.ipynb",
      "provenance": [],
      "authorship_tag": "ABX9TyPL1OPB1gPFFSzKiDzFAOT+",
      "include_colab_link": true
    },
    "kernelspec": {
      "name": "python3",
      "display_name": "Python 3"
    },
    "language_info": {
      "name": "python"
    }
  },
  "cells": [
    {
      "cell_type": "markdown",
      "metadata": {
        "id": "view-in-github",
        "colab_type": "text"
      },
      "source": [
        "<a href=\"https://colab.research.google.com/github/bassemmarji/FaceAnalyzer/blob/main/LinkedIn_ConnectionRequests.ipynb\" target=\"_parent\"><img src=\"https://colab.research.google.com/assets/colab-badge.svg\" alt=\"Open In Colab\"/></a>"
      ]
    },
    {
      "cell_type": "code",
      "execution_count": null,
      "metadata": {
        "id": "aRTdJDuAAuAq"
      },
      "outputs": [],
      "source": [
        "!pip install selenium\n",
        "!apt-get update # to update ubuntu to correctly run apt install\n",
        "!apt install chromium-chromedriver\n",
        "!cp /usr/lib/chromium-browser/chromedriver /usr/bin\n",
        "import sys\n",
        "sys.path.insert(0,'/usr/lib/chromium-browser/chromedriver')\n",
        "from selenium import webdriver\n",
        "chrome_options = webdriver.ChromeOptions()\n",
        "chrome_options.add_argument('--headless')\n",
        "chrome_options.add_argument('--no-sandbox')\n",
        "chrome_options.add_argument('--disable-dev-shm-usage')\n",
        "wd = webdriver.Chrome('chromedriver',chrome_options=chrome_options)\n",
        "wd.get(\"https://www.google.com/\")"
      ]
    },
    {
      "cell_type": "code",
      "source": [
        "from selenium import webdriver\n",
        "from selenium.webdriver.chrome.service import Service\n",
        "from selenium.webdriver.common.keys import Keys\n",
        "import pyautogui as pag\n",
        "from time import sleep\n",
        "import pandas as pd\n",
        "from selenium.webdriver.common.by import By\n",
        "from selenium.webdriver.support.ui import Selectfrom selenium.common.exceptions import NoSuchElementException\n",
        "\n",
        "driver =  webdriver.Chrome('chromedriver',chrome_options=chrome_options)\n",
        "\n",
        "url = \"http://linkedin.com/\"  \n",
        "browser.get(url)\n",
        "\n",
        "# Getting the login element\n",
        "username = browser.find_element(By.ID,\"session_key\")\n",
        "# Sending the keys for username \n",
        "username.send_keys(\"username\")\n",
        "# Getting the password element        \n",
        "password = browser.find_element(By.ID,\"session_password\")\n",
        "# Sending the keys for password\n",
        "password.send_keys(\"password\")\n",
        "# Getting the tag for submit button     \n",
        "browser.find_element(By.CLASS_NAME,\"sign-in-form__submit-button\").click()\n",
        "\n",
        "for i in first_column:\n",
        "    browser.get(i)\n",
        "xpath=\"//main[@id='main']/div[1]/section[1]/div[2]/div[3]/div[1]/button[1]/span[1]\"\n",
        "if check_exists_by_xpath(browser,xpath):\n",
        "        browser.find_element(By.XPATH,xpath).click()\n",
        "        if check_exists(By.ID,browser,\"custom-message\"):\n",
        "            browser.find_element(By.ID,\"custom-message\").send_keys(text)\n",
        "            browser.find_element(By.CSS_SELECTOR,\"[aria-label='Send now']\").click()\n",
        "    else:\n",
        "        browser.find_element(By.CSS_SELECTOR,\"[aria-label='More actions']\").click()\n",
        "        if check_exists(By.CSS_SELECTOR,browser,\"[data-control-name='follow']\"):\n",
        "            browser.find_element(By.CSS_SELECTOR,\"[data-control-name='follow']\").click()\n",
        "    sleep(3)\n",
        "    print(\"Done\")\n",
        "\n",
        "\n",
        "def check_exists_by_xpath(browser,xpath):\n",
        "try:\n",
        "browser.find_element(By.XPATH,xpath)\n",
        "except NoSuchElementException:\n",
        "return False\n",
        "return True\n",
        "def check_exists(element,browser,sel):\n",
        "try:\n",
        "browser.find_element(element,sel)\n",
        "except NoSuchElementException:\n",
        "return False\n",
        "return True    "
      ],
      "metadata": {
        "id": "EMwPKZusAxEO"
      },
      "execution_count": null,
      "outputs": []
    }
  ]
}