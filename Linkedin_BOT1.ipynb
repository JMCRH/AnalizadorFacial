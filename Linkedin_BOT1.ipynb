{
  "nbformat": 4,
  "nbformat_minor": 0,
  "metadata": {
    "colab": {
      "name": "Linkedin_BOT1.ipynb",
      "provenance": [],
      "authorship_tag": "ABX9TyOrYRNfsMoTqB9Wzbmkp4Jy",
      "include_colab_link": true
    },
    "kernelspec": {
      "name": "python3",
      "display_name": "Python 3"
    },
    "language_info": {
      "name": "python"
    }
  },
  "cells": [
    {
      "cell_type": "markdown",
      "metadata": {
        "id": "view-in-github",
        "colab_type": "text"
      },
      "source": [
        "<a href=\"https://colab.research.google.com/github/bassemmarji/FaceAnalyzer/blob/main/Linkedin_BOT1.ipynb\" target=\"_parent\"><img src=\"https://colab.research.google.com/assets/colab-badge.svg\" alt=\"Open In Colab\"/></a>"
      ]
    },
    {
      "cell_type": "code",
      "execution_count": 6,
      "metadata": {
        "colab": {
          "base_uri": "https://localhost:8080/",
          "height": 367
        },
        "id": "qJ8jxh4FAlhh",
        "outputId": "c52faac6-df1b-4ad7-992e-b8b301f1608b"
      },
      "outputs": [
        {
          "output_type": "error",
          "ename": "ImportError",
          "evalue": "ignored",
          "traceback": [
            "\u001b[0;31m---------------------------------------------------------------------------\u001b[0m",
            "\u001b[0;31mImportError\u001b[0m                               Traceback (most recent call last)",
            "\u001b[0;32m<ipython-input-6-37bf30d5883b>\u001b[0m in \u001b[0;36m<module>\u001b[0;34m()\u001b[0m\n\u001b[1;32m      1\u001b[0m \u001b[0;31m#!pip install kora -q\u001b[0m\u001b[0;34m\u001b[0m\u001b[0;34m\u001b[0m\u001b[0;34m\u001b[0m\u001b[0m\n\u001b[0;32m----> 2\u001b[0;31m \u001b[0;32mfrom\u001b[0m \u001b[0mkora\u001b[0m\u001b[0;34m.\u001b[0m\u001b[0mselenium\u001b[0m \u001b[0;32mimport\u001b[0m \u001b[0mwd\u001b[0m\u001b[0;34m,\u001b[0m\u001b[0mWebDriverWait\u001b[0m \u001b[0;34m,\u001b[0m\u001b[0mEC\u001b[0m\u001b[0;34m,\u001b[0m\u001b[0mBy\u001b[0m\u001b[0;34m\u001b[0m\u001b[0;34m\u001b[0m\u001b[0m\n\u001b[0m\u001b[1;32m      3\u001b[0m \u001b[0;32mimport\u001b[0m \u001b[0mtime\u001b[0m\u001b[0;34m\u001b[0m\u001b[0;34m\u001b[0m\u001b[0m\n\u001b[1;32m      4\u001b[0m \u001b[0;34m\u001b[0m\u001b[0m\n\u001b[1;32m      5\u001b[0m \u001b[0;31m#Create a new instance of the ChromeDriver Driver and go to linkedin.com\u001b[0m\u001b[0;34m\u001b[0m\u001b[0;34m\u001b[0m\u001b[0;34m\u001b[0m\u001b[0m\n",
            "\u001b[0;31mImportError\u001b[0m: cannot import name 'WebDriverWait' from 'kora.selenium' (/usr/local/lib/python3.7/dist-packages/kora/selenium.py)",
            "",
            "\u001b[0;31m---------------------------------------------------------------------------\u001b[0;32m\nNOTE: If your import is failing due to a missing package, you can\nmanually install dependencies using either !pip or !apt.\n\nTo view examples of installing some common dependencies, click the\n\"Open Examples\" button below.\n\u001b[0;31m---------------------------------------------------------------------------\u001b[0m\n"
          ],
          "errorDetails": {
            "actions": [
              {
                "action": "open_url",
                "actionText": "Open Examples",
                "url": "/notebooks/snippets/importing_libraries.ipynb"
              }
            ]
          }
        }
      ],
      "source": [
        "#!pip install kora -q\n",
        "from kora.selenium import wd, WebDriverWait ,EC,By\n",
        "import time\n",
        "\n",
        "#Create a new instance of the ChromeDriver Driver and go to linkedin.com\n",
        "URL=\"http://linkedin.com/\"\n",
        "NETWORK_URL = \"http://linkedin.com/mynetwork\"\n",
        "EMAILADDRESS = \"\"\n",
        "PASSWORD = \"\"\n",
        "\n",
        "def login(webDriver,emailAddress,password):\n",
        "    \"\"\"\n",
        "    Login to LinkedIn account\n",
        "    If the credentials are correct, it navigates to the LinkedIn homepage.\n",
        "    \"\"\"\n",
        "    #Find a particular element in the HTML having ID = session_key\n",
        "    username = webDriver.find_element_by_id(\"session_key\")\n",
        "    username.send_keys(emailAddress)\n",
        "\n",
        "    #Find a particular element in the HTML having ID = session_password\n",
        "    password = webDriver.find_element_by_id(\"session_password\")\n",
        "    password.send_keys(password)\n",
        "\n",
        "    #Find the signin button\n",
        "    webDriver.find_element_by_class_name(\"sign-in-form__submit-button\").click()\n",
        "\n",
        "def go_to_page(webDriver,url):\n",
        "    webDriver.get(url)\n",
        "\n",
        "def send_requests_to_users(webDriver,connRequestsCount):\n",
        "    #call the method WebDriverWait to wait for 60 sec before the next event.\n",
        "    #Wait the amount of time necessary for the element or data to be loaded.\n",
        "    WebDriverWait(webDriver,60).until(\n",
        "      EC.presence_of_element_located((By.CLASS_NAME,\"class name of an element\"))\n",
        "    )\n",
        "\n",
        "    #The connection suggestions are in the middle of the page.\n",
        "    #Bot needs to scroll down on the page.\n",
        "    javaScript = \"window.scrollBy(0,4000)\"\n",
        "    webDriver.execute_script(javaScript)\n",
        "    #Specify the number of connection requests to be sent\n",
        "    n = connRequestsCount\n",
        "    for i in range(0,connRequestsCount):\n",
        "        #pag.click(441,666)\n",
        "        pass\n",
        "    print('Completed!')\n",
        "\n",
        "def grab_screenshot(webDriver):\n",
        "    local_time  = time.localtime()\n",
        "    time_string = time.strftime(\"%Y/%m/%d\",local_time)\n",
        "    #save screenshots in the same folder where the code resides.\n",
        "    webDriver.save_screenshot(time_string + \"_screenshot.png\")\n",
        "\n",
        "def accept_users_invitations(webDriver):\n",
        "    #Because the connection invitations are located at the top of the page, the Bot needs to scroll up on the page.\n",
        "    javascript = \"window.scrollBy(0,0)\";\n",
        "    webDriver.execute_script(javaScript)\n",
        "    #Before accepting invitations, Bot should check whether there exist connection invitations for the user.\n",
        "    element_exists = True\n",
        "    while element_exists:\n",
        "         try:\n",
        "            webDriver.find_element_by_class_name(\"invitation-card__action-btn\")\n",
        "         # If the element is not present   \n",
        "         # Bot understands that there are no more connection invitations in the account.\n",
        "         except NoSuchElementException:\n",
        "            element_exists = False   \n",
        "         finally:\n",
        "            if element_exists:\n",
        "               webDriver.find_element_by_class_name(\"invitation-card__action-btn artdeco-button--secondary\").click()\n",
        "\n",
        "\n",
        "#Putting all together\n",
        "def run_bot():\n",
        "    wd.get(URL)\n",
        "    print(wd.title)\n",
        "    print(wd.session_id)    \n",
        "    print(wd.page_source)\n",
        "    login(wd,EMAILADDRESS,PASSWORD)\n",
        "    go_to_page(NETWORK_URL)\n",
        "    send_requests_to_users(wd,5)\n",
        "    accept_users_invitationss(wd)\n",
        "\n",
        "def main():\n",
        "    run_bot()\n",
        "   \n",
        "\n",
        "\n",
        "\n",
        "\n",
        "    "
      ]
    },
    {
      "cell_type": "code",
      "source": [
        ""
      ],
      "metadata": {
        "id": "87UHq5rBQoic"
      },
      "execution_count": null,
      "outputs": []
    }
  ]
}